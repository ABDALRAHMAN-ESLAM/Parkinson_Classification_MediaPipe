{
 "cells": [
  {
   "cell_type": "code",
   "execution_count": 3,
   "metadata": {},
   "outputs": [
    {
     "ename": "ModuleNotFoundError",
     "evalue": "No module named 'tsfel'",
     "output_type": "error",
     "traceback": [
      "\u001b[1;31m---------------------------------------------------------------------------\u001b[0m",
      "\u001b[1;31mModuleNotFoundError\u001b[0m                       Traceback (most recent call last)",
      "Cell \u001b[1;32mIn[3], line 2\u001b[0m\n\u001b[0;32m      1\u001b[0m \u001b[38;5;28;01mimport\u001b[39;00m \u001b[38;5;21;01mpandas\u001b[39;00m \u001b[38;5;28;01mas\u001b[39;00m \u001b[38;5;21;01mpd\u001b[39;00m\n\u001b[1;32m----> 2\u001b[0m \u001b[38;5;28;01mimport\u001b[39;00m \u001b[38;5;21;01mtsfel\u001b[39;00m\n\u001b[0;32m      3\u001b[0m \u001b[38;5;28;01mimport\u001b[39;00m \u001b[38;5;21;01mmatplotlib\u001b[39;00m\u001b[38;5;21;01m.\u001b[39;00m\u001b[38;5;21;01mpyplot\u001b[39;00m \u001b[38;5;28;01mas\u001b[39;00m \u001b[38;5;21;01mplt\u001b[39;00m\n\u001b[0;32m      4\u001b[0m \u001b[38;5;28;01mimport\u001b[39;00m \u001b[38;5;21;01mos\u001b[39;00m\n",
      "\u001b[1;31mModuleNotFoundError\u001b[0m: No module named 'tsfel'"
     ]
    }
   ],
   "source": [
    "import pandas as pd\n",
    "import tsfel\n",
    "import matplotlib.pyplot as plt\n",
    "import os"
   ]
  },
  {
   "cell_type": "code",
   "execution_count": null,
   "metadata": {},
   "outputs": [],
   "source": [
    "# Directories containing the folders with Excel files\n",
    "directories = {\n",
    "    \"Normal_Excel_Files\": r\"C:\\Users\\Hong\\Downloads\\MediaPipe_Testing\\MediaPipePoseEstimation\\Normal_Excel_Files\",\n",
    "    \"PD_ML_Excel_Files\": r\"C:\\Users\\Hong\\Downloads\\MediaPipe_Testing\\MediaPipePoseEstimation\\PD_ML_Excel_Files\",\n",
    "    \"PD_MD_Excel_Files\": r\"C:\\Users\\Hong\\Downloads\\MediaPipe_Testing\\MediaPipePoseEstimation\\PD_MD_Excel_Files\"\n",
    "}"
   ]
  },
  {
   "cell_type": "code",
   "execution_count": null,
   "metadata": {},
   "outputs": [],
   "source": [
    "# Dictionary to store the features for each Excel file across directories\n",
    "file_features = {}"
   ]
  },
  {
   "cell_type": "code",
   "execution_count": null,
   "metadata": {},
   "outputs": [],
   "source": [
    "# Set up the default configuration using statistical, temporal, and spectral feature sets\n",
    "cfg = tsfel.get_features_by_domain()"
   ]
  },
  {
   "cell_type": "code",
   "execution_count": null,
   "metadata": {},
   "outputs": [],
   "source": [
    "for dir_name, dir_path in directories.items():\n",
    "    for folder in os.listdir(dir_path):\n",
    "        folder_path = os.path.join(dir_path, folder)\n",
    "        if os.path.isdir(folder_path):\n",
    "            for file_name in os.listdir(folder_path):\n",
    "                if file_name.endswith(\".xlsx\"):\n",
    "                    file_path = os.path.join(folder_path, file_name)\n",
    "                    df = pd.read_excel(file_path)\n",
    "                    y_series = df['Y']\n",
    "                    y_df = pd.DataFrame(y_series)\n",
    "                    X = tsfel.time_series_features_extractor(cfg, y_df)\n",
    "                    \n",
    "                    if file_name not in file_features:\n",
    "                        file_features[file_name] = {\"Normal_Excel_Files\": None, \"PD_ML_Excel_Files\": None, \"PD_MD_Excel_Files\": None}\n",
    "                    \n",
    "                    file_features[file_name][dir_name] = X.mean(axis=0)  # Average features for each file\n"
   ]
  },
  {
   "cell_type": "code",
   "execution_count": null,
   "metadata": {},
   "outputs": [],
   "source": [
    "# Plotting the bar graph for each Excel file\n",
    "for file_name, features in file_features.items():\n",
    "    plt.figure(figsize=(15, 10))\n",
    "    df = pd.DataFrame(features)\n",
    "    df.plot(kind='bar', figsize=(15, 10), color=['red', 'blue', 'green'])\n",
    "    plt.xlabel('Features')\n",
    "    plt.ylabel('Average Value')\n",
    "    plt.title(f'Average Feature Values for Y Column in {file_name}')\n",
    "    plt.legend([\"Normal\", \"PD_ML\", \"PD_MD\"], loc='upper right')\n",
    "    plt.grid(True)\n",
    "    plt.show()"
   ]
  }
 ],
 "metadata": {
  "kernelspec": {
   "display_name": "base",
   "language": "python",
   "name": "python3"
  },
  "language_info": {
   "codemirror_mode": {
    "name": "ipython",
    "version": 3
   },
   "file_extension": ".py",
   "mimetype": "text/x-python",
   "name": "python",
   "nbconvert_exporter": "python",
   "pygments_lexer": "ipython3",
   "version": "3.12.3"
  }
 },
 "nbformat": 4,
 "nbformat_minor": 2
}
