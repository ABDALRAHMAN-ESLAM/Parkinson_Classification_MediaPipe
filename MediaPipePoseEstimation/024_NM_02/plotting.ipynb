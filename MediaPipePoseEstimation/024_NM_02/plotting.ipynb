{
 "cells": [
  {
   "cell_type": "code",
   "execution_count": 24,
   "metadata": {},
   "outputs": [],
   "source": [
    "import pandas as pd\n",
    "import matplotlib.pyplot as plt\n",
    "import os"
   ]
  },
  {
   "cell_type": "code",
   "execution_count": 25,
   "metadata": {},
   "outputs": [],
   "source": [
    "# Directories containing the folders with LEFT_ANKLE_data.xlsx\n",
    "directories = {\n",
    "    \"Normal_Excel_Files\": r\"C:\\Users\\Hong\\Downloads\\MediaPipe_Testing\\MediaPipePoseEstimation\\Normal_Excel_Files\",\n",
    "    \"PD_ML_Excel_Files\": r\"C:\\Users\\Hong\\Downloads\\MediaPipe_Testing\\MediaPipePoseEstimation\\PD_ML_Excel_Files\",\n",
    "    \"PD_MD_Excel_Files\": r\"C:\\Users\\Hong\\Downloads\\MediaPipe_Testing\\MediaPipePoseEstimation\\PD_MD_Excel_Files\"\n",
    "}"
   ]
  },
  {
   "cell_type": "code",
   "execution_count": 28,
   "metadata": {},
   "outputs": [],
   "source": [
    "# Dictionary to store the averages and standard deviations of Y for each Excel file across directories\n",
    "file_stats = {}"
   ]
  }
 ],
 "metadata": {
  "kernelspec": {
   "display_name": "py310",
   "language": "python",
   "name": "python3"
  },
  "language_info": {
   "codemirror_mode": {
    "name": "ipython",
    "version": 3
   },
   "file_extension": ".py",
   "mimetype": "text/x-python",
   "name": "python",
   "nbconvert_exporter": "python",
   "pygments_lexer": "ipython3",
   "version": "3.10.14"
  }
 },
 "nbformat": 4,
 "nbformat_minor": 2
}
