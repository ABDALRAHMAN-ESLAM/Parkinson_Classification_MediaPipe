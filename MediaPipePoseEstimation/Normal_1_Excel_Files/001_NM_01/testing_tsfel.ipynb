{
 "cells": [
  {
   "cell_type": "code",
   "execution_count": 28,
   "metadata": {},
   "outputs": [],
   "source": [
    "\n",
    "import pandas as pd\n",
    "import tsfel"
   ]
  },
  {
   "cell_type": "code",
   "execution_count": 29,
   "metadata": {},
   "outputs": [],
   "source": [
    "# Load the Excel file\n",
    "file_path = \"LEFT_ANKLE_data.xlsx\"\n",
    "data = pd.read_excel(file_path)"
   ]
  },
  {
   "cell_type": "code",
   "execution_count": 30,
   "metadata": {},
   "outputs": [],
   "source": [
    "# Extract the 'Y' column as a separate time series\n",
    "y_series = data['X']\n",
    "# Convert the series to a DataFrame\n",
    "y_df = pd.DataFrame(y_series)"
   ]
  },
  {
   "cell_type": "code",
   "execution_count": 31,
   "metadata": {},
   "outputs": [],
   "source": [
    "# Set up the default configuration using statistical, temporal, and spectral feature sets\n",
    "cfg = tsfel.get_features_by_domain()"
   ]
  },
  {
   "cell_type": "code",
   "execution_count": 32,
   "metadata": {},
   "outputs": [
    {
     "name": "stderr",
     "output_type": "stream",
     "text": [
      "C:\\Users\\Hong\\AppData\\Local\\Temp\\ipykernel_24800\\3618342937.py:2: UserWarning: Using default sampling frequency set in configuration file.\n",
      "  X = tsfel.time_series_features_extractor(cfg, y_df)\n"
     ]
    },
    {
     "data": {
      "text/html": [
       "\n",
       "              <p>\n",
       "                  Progress: 100% Complete\n",
       "              <p/>\n",
       "              <progress\n",
       "                  value='67'\n",
       "                  max='67',\n",
       "                  style='width: 25%',\n",
       "              >\n",
       "                  67\n",
       "              </progress>\n",
       "\n",
       "    "
      ],
      "text/plain": [
       "<IPython.core.display.HTML object>"
      ]
     },
     "metadata": {},
     "output_type": "display_data"
    }
   ],
   "source": [
    "# Extract features from the 'Y' time series\n",
    "X = tsfel.time_series_features_extractor(cfg, y_df)"
   ]
  },
  {
   "cell_type": "code",
   "execution_count": 33,
   "metadata": {},
   "outputs": [
    {
     "name": "stdout",
     "output_type": "stream",
     "text": [
      "   X_Absolute energy  X_Area under the curve  X_Autocorrelation  \\\n",
      "0          28.812756                0.437169               22.0   \n",
      "\n",
      "   X_Average power  X_Centroid  X_ECDF Percentile Count_0  \\\n",
      "0         33.11811    0.643945                       17.0   \n",
      "\n",
      "   X_ECDF Percentile Count_1  X_ECDF Percentile_0  X_ECDF Percentile_1  \\\n",
      "0                       70.0             0.208346             0.845147   \n",
      "\n",
      "   X_ECDF_0  ...  X_Wavelet variance_12.5Hz  X_Wavelet variance_2.78Hz  \\\n",
      "0  0.011364  ...                   0.011822                   0.357219   \n",
      "\n",
      "   X_Wavelet variance_25.0Hz  X_Wavelet variance_3.12Hz  \\\n",
      "0                   0.003068                    0.28213   \n",
      "\n",
      "   X_Wavelet variance_3.57Hz  X_Wavelet variance_4.17Hz  \\\n",
      "0                    0.20895                   0.141449   \n",
      "\n",
      "   X_Wavelet variance_5.0Hz  X_Wavelet variance_6.25Hz  \\\n",
      "0                  0.088204                   0.051105   \n",
      "\n",
      "   X_Wavelet variance_8.33Hz  X_Zero crossing rate  \n",
      "0                   0.027088                   0.0  \n",
      "\n",
      "[1 rows x 156 columns]\n"
     ]
    }
   ],
   "source": [
    "print(X)"
   ]
  }
 ],
 "metadata": {
  "kernelspec": {
   "display_name": "py310",
   "language": "python",
   "name": "python3"
  },
  "language_info": {
   "codemirror_mode": {
    "name": "ipython",
    "version": 3
   },
   "file_extension": ".py",
   "mimetype": "text/x-python",
   "name": "python",
   "nbconvert_exporter": "python",
   "pygments_lexer": "ipython3",
   "version": "3.10.14"
  }
 },
 "nbformat": 4,
 "nbformat_minor": 2
}
