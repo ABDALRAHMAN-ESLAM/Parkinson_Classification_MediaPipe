{
 "cells": [
  {
   "cell_type": "code",
   "execution_count": 13,
   "id": "b69d64ae-bc45-4fee-9491-fac593f46211",
   "metadata": {},
   "outputs": [],
   "source": [
    "import pandas as pd\n",
    "import numpy as np\n",
    "from sklearn.model_selection import train_test_split\n",
    "from keras.models import Sequential\n",
    "from keras.layers import Dense, GRU, Flatten, Dropout\n",
    "import time"
   ]
  },
  {
   "cell_type": "code",
   "execution_count": 14,
   "id": "e1635dc9-4676-4694-9937-f0fa33b09137",
   "metadata": {},
   "outputs": [],
   "source": [
    "df_X1 = pd.read_pickle(r\"C:\\Users\\Hong\\Downloads\\MediaPipe_Testing\\MediaPipePoseEstimation\\Deep_Learning\\X_array_2.pkl\")\n",
    "df_X2 = pd.read_pickle(r\"C:\\Users\\Hong\\Downloads\\MediaPipe_Testing\\MediaPipePoseEstimation\\Deep_Learning\\Y_array_2.pkl\")\n",
    "df_X3 = pd.read_pickle(r\"C:\\Users\\Hong\\Downloads\\MediaPipe_Testing\\MediaPipePoseEstimation\\Deep_Learning\\Z_array_2.pkl\")\n",
    "df_Y = pd.read_pickle(r\"C:\\Users\\Hong\\Downloads\\MediaPipe_Testing\\MediaPipePoseEstimation\\Deep_Learning\\Group_2.pkl\")"
   ]
  },
  {
   "cell_type": "code",
   "execution_count": 15,
   "id": "7a362d73",
   "metadata": {},
   "outputs": [],
   "source": [
    "# Convert the lists to numpy arrays for compatibility with Keras\n",
    "X1 = np.array(df_X1)\n",
    "X2 = np.array(df_X2)\n",
    "X3 = np.array(df_X3)\n",
    "Y = np.array(df_Y)"
   ]
  },
  {
   "cell_type": "code",
   "execution_count": 16,
   "id": "8c4a4a74",
   "metadata": {},
   "outputs": [],
   "source": [
    "X = np.concatenate((X1, X2, X3), axis=1)"
   ]
  },
  {
   "cell_type": "code",
   "execution_count": 17,
   "id": "d87ddc89",
   "metadata": {},
   "outputs": [
    {
     "name": "stdout",
     "output_type": "stream",
     "text": [
      "(40, 99, 847)\n"
     ]
    }
   ],
   "source": [
    "print(X.shape)"
   ]
  },
  {
   "cell_type": "code",
   "execution_count": 18,
   "id": "799516b7-1cf9-4255-a986-83fde23c1e1b",
   "metadata": {},
   "outputs": [],
   "source": [
    "# Split the data into training and testing sets\n",
    "X_train, X_test, Y_train, Y_test = train_test_split(X, Y, test_size=0.2, random_state=42)"
   ]
  },
  {
   "cell_type": "code",
   "execution_count": 19,
   "id": "b478be43",
   "metadata": {},
   "outputs": [
    {
     "name": "stdout",
     "output_type": "stream",
     "text": [
      "(32, 99, 847)\n"
     ]
    }
   ],
   "source": [
    "print(X_train.shape)"
   ]
  },
  {
   "cell_type": "code",
   "execution_count": 20,
   "id": "e8bdfe22",
   "metadata": {},
   "outputs": [
    {
     "name": "stdout",
     "output_type": "stream",
     "text": [
      "(8, 99, 847)\n"
     ]
    }
   ],
   "source": [
    "print(X_test.shape)"
   ]
  },
  {
   "cell_type": "code",
   "execution_count": 21,
   "id": "dd076cfc-9112-4516-ae35-0e57cd913629",
   "metadata": {},
   "outputs": [
    {
     "name": "stdout",
     "output_type": "stream",
     "text": [
      "Model: \"sequential_1\"\n",
      "_________________________________________________________________\n",
      " Layer (type)                Output Shape              Param #   \n",
      "=================================================================\n",
      " gru_3 (GRU)                 (None, 99, 100)           284700    \n",
      "                                                                 \n",
      " dropout_3 (Dropout)         (None, 99, 100)           0         \n",
      "                                                                 \n",
      " gru_4 (GRU)                 (None, 99, 80)            43680     \n",
      "                                                                 \n",
      " dropout_4 (Dropout)         (None, 99, 80)            0         \n",
      "                                                                 \n",
      " gru_5 (GRU)                 (None, 50)                19800     \n",
      "                                                                 \n",
      " dropout_5 (Dropout)         (None, 50)                0         \n",
      "                                                                 \n",
      " dense_1 (Dense)             (None, 3)                 153       \n",
      "                                                                 \n",
      "=================================================================\n",
      "Total params: 348,333\n",
      "Trainable params: 348,333\n",
      "Non-trainable params: 0\n",
      "_________________________________________________________________\n"
     ]
    }
   ],
   "source": [
    "model = Sequential()\n",
    "model.add(GRU(100, activation=\"tanh\", return_sequences=True, input_shape=(99, 847)))\n",
    "model.add(Dropout(0.15))\n",
    "model.add(GRU(80, activation=\"tanh\", return_sequences=True))\n",
    "model.add(Dropout(0.15))\n",
    "model.add(GRU(50, activation=\"tanh\", return_sequences=False))\n",
    "model.add(Dropout(0.15))\n",
    "model.add(Dense(3, activation='sigmoid'))  # Change GRU to Dense layer\n",
    "model.summary()"
   ]
  },
  {
   "cell_type": "code",
   "execution_count": 22,
   "id": "8d36b2ad-d986-4c25-87ea-d3f6d46fe1fe",
   "metadata": {},
   "outputs": [],
   "source": [
    "#model.compile(loss='binary_crossentropy', optimizer='Adam', metrics=['accuracy'])\n",
    "model.compile(loss='sparse_categorical_crossentropy', optimizer='Adam', metrics=['accuracy'])"
   ]
  },
  {
   "cell_type": "code",
   "execution_count": 23,
   "id": "8c7fdffc-150a-4f9e-9f9c-45cf708f34c5",
   "metadata": {},
   "outputs": [],
   "source": [
    "start_time = time.time()  # Start the timer"
   ]
  },
  {
   "cell_type": "code",
   "execution_count": 24,
   "id": "b55f4b30-129e-44e7-a192-a5ae2aa746e4",
   "metadata": {},
   "outputs": [
    {
     "name": "stdout",
     "output_type": "stream",
     "text": [
      "Epoch 1/30000\n",
      "32/32 [==============================] - 9s 42ms/step - loss: 0.6556 - accuracy: 0.6562\n",
      "Epoch 2/30000\n",
      "32/32 [==============================] - 1s 42ms/step - loss: 0.4903 - accuracy: 0.8125\n",
      "Epoch 3/30000\n",
      "32/32 [==============================] - 4s 139ms/step - loss: 0.4315 - accuracy: 0.8125\n",
      "Epoch 4/30000\n",
      "32/32 [==============================] - 4s 118ms/step - loss: 0.3035 - accuracy: 0.8438\n",
      "Epoch 5/30000\n",
      "32/32 [==============================] - 4s 114ms/step - loss: 0.3576 - accuracy: 0.7812\n",
      "Epoch 6/30000\n",
      "32/32 [==============================] - 3s 104ms/step - loss: 0.2421 - accuracy: 0.8438\n",
      "Epoch 7/30000\n",
      "32/32 [==============================] - 6s 173ms/step - loss: 0.2464 - accuracy: 0.8750\n",
      "Epoch 8/30000\n",
      "32/32 [==============================] - 5s 148ms/step - loss: 0.1995 - accuracy: 0.9062\n",
      "Epoch 9/30000\n",
      "32/32 [==============================] - 5s 157ms/step - loss: 0.2547 - accuracy: 0.8750\n",
      "Epoch 10/30000\n",
      "32/32 [==============================] - 5s 144ms/step - loss: 0.1352 - accuracy: 0.9375\n",
      "Epoch 11/30000\n",
      "32/32 [==============================] - 4s 137ms/step - loss: 0.0455 - accuracy: 1.0000\n",
      "Epoch 12/30000\n",
      "32/32 [==============================] - 4s 139ms/step - loss: 0.0188 - accuracy: 1.0000\n",
      "Epoch 13/30000\n",
      "32/32 [==============================] - 5s 155ms/step - loss: 0.0092 - accuracy: 1.0000\n",
      "Epoch 14/30000\n",
      "32/32 [==============================] - 4s 135ms/step - loss: 0.0052 - accuracy: 1.0000\n",
      "Epoch 15/30000\n",
      "32/32 [==============================] - 5s 163ms/step - loss: 0.0059 - accuracy: 1.0000\n",
      "Epoch 16/30000\n",
      "32/32 [==============================] - 3s 102ms/step - loss: 0.0039 - accuracy: 1.0000\n",
      "Epoch 17/30000\n",
      "32/32 [==============================] - 1s 36ms/step - loss: 0.0029 - accuracy: 1.0000\n",
      "Epoch 18/30000\n",
      "32/32 [==============================] - 1s 31ms/step - loss: 0.0019 - accuracy: 1.0000\n",
      "Epoch 19/30000\n",
      "32/32 [==============================] - 1s 28ms/step - loss: 0.0024 - accuracy: 1.0000\n",
      "Epoch 20/30000\n",
      "32/32 [==============================] - 1s 27ms/step - loss: 0.0018 - accuracy: 1.0000\n",
      "Epoch 21/30000\n",
      "12/32 [==========>...................] - ETA: 0s - loss: 9.3418e-04 - accuracy: 1.0000"
     ]
    },
    {
     "ename": "KeyboardInterrupt",
     "evalue": "",
     "output_type": "error",
     "traceback": [
      "\u001b[1;31m---------------------------------------------------------------------------\u001b[0m",
      "\u001b[1;31mKeyboardInterrupt\u001b[0m                         Traceback (most recent call last)",
      "Cell \u001b[1;32mIn[24], line 2\u001b[0m\n\u001b[0;32m      1\u001b[0m \u001b[38;5;66;03m# Train the model\u001b[39;00m\n\u001b[1;32m----> 2\u001b[0m \u001b[43mmodel\u001b[49m\u001b[38;5;241;43m.\u001b[39;49m\u001b[43mfit\u001b[49m\u001b[43m(\u001b[49m\u001b[43mX_train\u001b[49m\u001b[43m,\u001b[49m\u001b[43m \u001b[49m\u001b[43mY_train\u001b[49m\u001b[43m,\u001b[49m\u001b[43m \u001b[49m\u001b[43mbatch_size\u001b[49m\u001b[38;5;241;43m=\u001b[39;49m\u001b[38;5;241;43m1\u001b[39;49m\u001b[43m,\u001b[49m\u001b[43m \u001b[49m\u001b[43mepochs\u001b[49m\u001b[38;5;241;43m=\u001b[39;49m\u001b[38;5;241;43m30000\u001b[39;49m\u001b[43m)\u001b[49m\n",
      "File \u001b[1;32mc:\\Users\\Hong\\anaconda3\\envs\\py310\\lib\\site-packages\\keras\\utils\\traceback_utils.py:65\u001b[0m, in \u001b[0;36mfilter_traceback.<locals>.error_handler\u001b[1;34m(*args, **kwargs)\u001b[0m\n\u001b[0;32m     63\u001b[0m filtered_tb \u001b[38;5;241m=\u001b[39m \u001b[38;5;28;01mNone\u001b[39;00m\n\u001b[0;32m     64\u001b[0m \u001b[38;5;28;01mtry\u001b[39;00m:\n\u001b[1;32m---> 65\u001b[0m     \u001b[38;5;28;01mreturn\u001b[39;00m fn(\u001b[38;5;241m*\u001b[39margs, \u001b[38;5;241m*\u001b[39m\u001b[38;5;241m*\u001b[39mkwargs)\n\u001b[0;32m     66\u001b[0m \u001b[38;5;28;01mexcept\u001b[39;00m \u001b[38;5;167;01mException\u001b[39;00m \u001b[38;5;28;01mas\u001b[39;00m e:\n\u001b[0;32m     67\u001b[0m     filtered_tb \u001b[38;5;241m=\u001b[39m _process_traceback_frames(e\u001b[38;5;241m.\u001b[39m__traceback__)\n",
      "File \u001b[1;32mc:\\Users\\Hong\\anaconda3\\envs\\py310\\lib\\site-packages\\keras\\engine\\training.py:1569\u001b[0m, in \u001b[0;36mModel.fit\u001b[1;34m(self, x, y, batch_size, epochs, verbose, callbacks, validation_split, validation_data, shuffle, class_weight, sample_weight, initial_epoch, steps_per_epoch, validation_steps, validation_batch_size, validation_freq, max_queue_size, workers, use_multiprocessing)\u001b[0m\n\u001b[0;32m   1567\u001b[0m \u001b[38;5;66;03m# No error, now safe to assign to logs.\u001b[39;00m\n\u001b[0;32m   1568\u001b[0m logs \u001b[38;5;241m=\u001b[39m tmp_logs\n\u001b[1;32m-> 1569\u001b[0m end_step \u001b[38;5;241m=\u001b[39m step \u001b[38;5;241m+\u001b[39m \u001b[43mdata_handler\u001b[49m\u001b[38;5;241;43m.\u001b[39;49m\u001b[43mstep_increment\u001b[49m\n\u001b[0;32m   1570\u001b[0m callbacks\u001b[38;5;241m.\u001b[39mon_train_batch_end(end_step, logs)\n\u001b[0;32m   1571\u001b[0m \u001b[38;5;28;01mif\u001b[39;00m \u001b[38;5;28mself\u001b[39m\u001b[38;5;241m.\u001b[39mstop_training:\n",
      "File \u001b[1;32mc:\\Users\\Hong\\anaconda3\\envs\\py310\\lib\\site-packages\\keras\\engine\\data_adapter.py:1394\u001b[0m, in \u001b[0;36mDataHandler.step_increment\u001b[1;34m(self)\u001b[0m\n\u001b[0;32m   1391\u001b[0m             \u001b[38;5;28mself\u001b[39m\u001b[38;5;241m.\u001b[39m_current_step \u001b[38;5;241m+\u001b[39m\u001b[38;5;241m=\u001b[39m steps_remaining\n\u001b[0;32m   1392\u001b[0m             \u001b[38;5;28mself\u001b[39m\u001b[38;5;241m.\u001b[39m_steps_per_execution\u001b[38;5;241m.\u001b[39massign(original_spe)\n\u001b[1;32m-> 1394\u001b[0m \u001b[38;5;129m@property\u001b[39m\n\u001b[0;32m   1395\u001b[0m \u001b[38;5;28;01mdef\u001b[39;00m \u001b[38;5;21mstep_increment\u001b[39m(\u001b[38;5;28mself\u001b[39m):\n\u001b[0;32m   1396\u001b[0m \u001b[38;5;250m    \u001b[39m\u001b[38;5;124;03m\"\"\"The number to increment the step for `on_batch_end` methods.\"\"\"\u001b[39;00m\n\u001b[0;32m   1397\u001b[0m     \u001b[38;5;28;01mreturn\u001b[39;00m \u001b[38;5;28mself\u001b[39m\u001b[38;5;241m.\u001b[39m_step_increment\n",
      "\u001b[1;31mKeyboardInterrupt\u001b[0m: "
     ]
    }
   ],
   "source": [
    "# Train the model\n",
    "model.fit(X_train, Y_train, batch_size=1, epochs=1000)"
   ]
  },
  {
   "cell_type": "code",
   "execution_count": 39,
   "id": "9f274ca5-78bc-47e0-9f0b-4350f80c855e",
   "metadata": {},
   "outputs": [],
   "source": [
    "end_time = time.time()  # End the timer"
   ]
  },
  {
   "cell_type": "code",
   "execution_count": 40,
   "id": "db658ade-0c4d-4807-8993-f44da5e44517",
   "metadata": {},
   "outputs": [
    {
     "name": "stdout",
     "output_type": "stream",
     "text": [
      "The processing time of the GRU is 9812.131520748138 seconds.\n"
     ]
    }
   ],
   "source": [
    "print(f\"The processing time of the GRU is {end_time - start_time} seconds.\")  # Print the processing time"
   ]
  },
  {
   "cell_type": "code",
   "execution_count": 41,
   "id": "e84661f6-c714-4ed2-8f7c-2258d54d6506",
   "metadata": {},
   "outputs": [
    {
     "name": "stdout",
     "output_type": "stream",
     "text": [
      "4/4 [==============================] - 1s 5ms/step - loss: 9.4539 - accuracy: 0.6250\n"
     ]
    }
   ],
   "source": [
    "# Evaluate the model on the test set\n",
    "test_loss, test_accuracy = model.evaluate(X_test, Y_test,batch_size=2)"
   ]
  },
  {
   "cell_type": "code",
   "execution_count": 42,
   "id": "acbfc2c4-3c36-43ac-a447-4c60d7f3764c",
   "metadata": {},
   "outputs": [
    {
     "name": "stdout",
     "output_type": "stream",
     "text": [
      "Test Loss: 9.453935623168945\n",
      "Test Accuracy: 0.625\n"
     ]
    }
   ],
   "source": [
    "# Print the test loss and test accuracy\n",
    "print(f\"Test Loss: {test_loss}\")\n",
    "print(f\"Test Accuracy: {test_accuracy}\")"
   ]
  },
  {
   "cell_type": "code",
   "execution_count": 43,
   "id": "f38c97f5",
   "metadata": {},
   "outputs": [
    {
     "name": "stdout",
     "output_type": "stream",
     "text": [
      "1/1 [==============================] - 0s 475ms/step\n"
     ]
    }
   ],
   "source": [
    "# Make predictions on the test set\n",
    "Y_pred = model.predict(X_test)"
   ]
  },
  {
   "cell_type": "code",
   "execution_count": 44,
   "id": "3d341bde",
   "metadata": {},
   "outputs": [],
   "source": [
    "# Convert predictions to class labels\n",
    "Y_pred_classes = np.argmax(Y_pred, axis=1)"
   ]
  },
  {
   "cell_type": "code",
   "execution_count": 45,
   "id": "fa89b131",
   "metadata": {},
   "outputs": [],
   "source": [
    "from sklearn.metrics import classification_report"
   ]
  },
  {
   "cell_type": "code",
   "execution_count": 46,
   "id": "5bee65af",
   "metadata": {},
   "outputs": [
    {
     "name": "stdout",
     "output_type": "stream",
     "text": [
      "              precision    recall  f1-score   support\n",
      "\n",
      "           0       1.00      0.83      0.91         6\n",
      "           1       0.00      0.00      0.00         1\n",
      "           2       0.00      0.00      0.00         1\n",
      "\n",
      "    accuracy                           0.62         8\n",
      "   macro avg       0.33      0.28      0.30         8\n",
      "weighted avg       0.75      0.62      0.68         8\n",
      "\n"
     ]
    }
   ],
   "source": [
    "print(classification_report(Y_test, Y_pred_classes))"
   ]
  }
 ],
 "metadata": {
  "kernelspec": {
   "display_name": "py310",
   "language": "python",
   "name": "python3"
  },
  "language_info": {
   "codemirror_mode": {
    "name": "ipython",
    "version": 3
   },
   "file_extension": ".py",
   "mimetype": "text/x-python",
   "name": "python",
   "nbconvert_exporter": "python",
   "pygments_lexer": "ipython3",
   "version": "3.10.14"
  }
 },
 "nbformat": 4,
 "nbformat_minor": 5
}
